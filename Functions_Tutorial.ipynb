{
  "nbformat": 4,
  "nbformat_minor": 0,
  "metadata": {
    "colab": {
      "name": "Functions Tutorial.ipynb",
      "provenance": [],
      "authorship_tag": "ABX9TyM3VtkQqO0vUIVxhH4sy0Nh",
      "include_colab_link": true
    },
    "kernelspec": {
      "name": "python3",
      "display_name": "Python 3"
    },
    "language_info": {
      "name": "python"
    }
  },
  "cells": [
    {
      "cell_type": "markdown",
      "metadata": {
        "id": "view-in-github",
        "colab_type": "text"
      },
      "source": [
        "<a href=\"https://colab.research.google.com/github/jackets82/flood-warnings/blob/master/Functions_Tutorial.ipynb\" target=\"_parent\"><img src=\"https://colab.research.google.com/assets/colab-badge.svg\" alt=\"Open In Colab\"/></a>"
      ]
    },
    {
      "cell_type": "markdown",
      "source": [
        "# Functions"
      ],
      "metadata": {
        "id": "bqTf7-Bdifj8"
      }
    },
    {
      "cell_type": "markdown",
      "source": [
        "Hi and welcome to this tutorial on functions. So, first things first, what is a function? In simple terms it's a block of code that you write once and then execute at a specific time.\n",
        "\n",
        "In fact, you've already used one of Python's built in functions, `print`. Consider the following code:"
      ],
      "metadata": {
        "id": "n8dkFqGhidbt"
      }
    },
    {
      "cell_type": "code",
      "execution_count": null,
      "metadata": {
        "colab": {
          "base_uri": "https://localhost:8080/"
        },
        "id": "G8-RVuLwhzZw",
        "outputId": "426f0401-3c91-4173-cdaf-8401cf2d4b05"
      },
      "outputs": [
        {
          "output_type": "stream",
          "name": "stdout",
          "text": [
            "Hello, world!\n"
          ]
        }
      ],
      "source": [
        "print('Hello, world!')"
      ]
    },
    {
      "cell_type": "markdown",
      "source": [
        "Here we call the function `print` and within the parenthesis pass it an argument in the form of a string, `'Hello, world!'` Behind the scenes Python takes the string, does something fancy and outputs the words onto the screen.\n",
        "\n",
        "A really simple example of a custom function is:"
      ],
      "metadata": {
        "id": "z47yecZhh0Ox"
      }
    },
    {
      "cell_type": "code",
      "source": [
        "def add(a, b):\n",
        "  print(a + b)"
      ],
      "metadata": {
        "id": "n6gMbmzAh2Uf"
      },
      "execution_count": null,
      "outputs": []
    },
    {
      "cell_type": "markdown",
      "source": [
        "I have told Python that I want to create a function by using the keyword `def`, used to **define** a function. I then give it a name. There are certain rules for naming functions; you can't use reserved words like `print`, and you need to start the name with an underscore or a letter. There are more rules which are listed [here](https://www.dummies.com/article/technology/programming-web-design/python/how-to-name-functions-in-python-139550), but most of the time if you're using a decent editor you should receive a warning if you make a mistake.\n",
        "\n",
        "Then I add some parenthesis or brackets, in which I can put any number of arguments including none, and I finish this line with a colon. The next line is indented (this is really important in Python, and it'll throw a paddy if you don't comply), and now comes the body of the function where we provide the instuctions.\n",
        "\n",
        "Ok, now for the bit where cool stuff happens! Not in this case because it's so simple, but you get the idea. We call another function (functions can call functions! Exciting stuff eh?), one we've seen before, `print` and pass it a really simple sum where I add together my two arguments, `a` and `b`.\n"
      ],
      "metadata": {
        "id": "v6kXGqBHh5z4"
      }
    },
    {
      "cell_type": "code",
      "source": [
        "add(1, 2)"
      ],
      "metadata": {
        "colab": {
          "base_uri": "https://localhost:8080/"
        },
        "id": "2f9vDUxKh4xz",
        "outputId": "9e1aca61-7301-4f6d-f6c7-a328cdef10a0"
      },
      "execution_count": null,
      "outputs": [
        {
          "output_type": "stream",
          "name": "stdout",
          "text": [
            "3\n"
          ]
        }
      ]
    },
    {
      "cell_type": "markdown",
      "source": [
        "Right, I've now called my custom function and passed it the arguments 1 and 2, and it has printed the answer to the screen. \n",
        "\n",
        "Now it's your turn. Write 3 more functions to complete the four basic calculations; minus, multiply, divide. Go."
      ],
      "metadata": {
        "id": "ioLmiDS0iGm5"
      }
    },
    {
      "cell_type": "code",
      "source": [
        ""
      ],
      "metadata": {
        "id": "FTFxnuyIkFp2"
      },
      "execution_count": null,
      "outputs": []
    },
    {
      "cell_type": "code",
      "source": [
        ""
      ],
      "metadata": {
        "id": "9VZLFRMTkNsu"
      },
      "execution_count": null,
      "outputs": []
    },
    {
      "cell_type": "code",
      "source": [
        ""
      ],
      "metadata": {
        "id": "lPcfRQTokOIW"
      },
      "execution_count": null,
      "outputs": []
    },
    {
      "cell_type": "markdown",
      "source": [
        "Just as an aside, the names that we give to our functions and arguments are completely arbitrary (as long as they follow the rules), but it makes sense to give them sensible names to ensure our code is readable."
      ],
      "metadata": {
        "id": "LkAhEektkOj_"
      }
    },
    {
      "cell_type": "markdown",
      "source": [
        "One of the most exciting (yeh I said exciting, it's all relative!) recent developments in Python is 'f' strings. These allow you to join strings and insert functions really easily. An example is below."
      ],
      "metadata": {
        "id": "qfhfd88UqdBN"
      }
    },
    {
      "cell_type": "code",
      "source": [
        "print(f'The sum of 6 and 5 is {6 + 5}.')"
      ],
      "metadata": {
        "colab": {
          "base_uri": "https://localhost:8080/"
        },
        "id": "5oh2hLRuqcah",
        "outputId": "5aad5268-e0cc-4eee-9307-e1b2a5cbc6cc"
      },
      "execution_count": null,
      "outputs": [
        {
          "output_type": "stream",
          "name": "stdout",
          "text": [
            "The sum of 6 and 5 is 11.\n"
          ]
        }
      ]
    },
    {
      "cell_type": "markdown",
      "source": [
        "This makes life really easy and your code much easier to read. I'm now going to show you how to say hello to anyone you want. Isn't that nice?"
      ],
      "metadata": {
        "id": "URVP2BijtCYI"
      }
    },
    {
      "cell_type": "code",
      "source": [
        "def say_hi(name):\n",
        "  print(f'Hello {name}, how are you?')"
      ],
      "metadata": {
        "id": "4r7DGKGKs92U"
      },
      "execution_count": null,
      "outputs": []
    },
    {
      "cell_type": "code",
      "source": [
        "say_hi(\"Adam\")"
      ],
      "metadata": {
        "colab": {
          "base_uri": "https://localhost:8080/"
        },
        "id": "S9u4rSuotf_G",
        "outputId": "03b00f6c-d336-489e-e8c0-bf300a1e8144"
      },
      "execution_count": null,
      "outputs": [
        {
          "output_type": "stream",
          "name": "stdout",
          "text": [
            "Hello Adam, how are you?\n"
          ]
        }
      ]
    },
    {
      "cell_type": "markdown",
      "source": [
        "If you remember all the way back to the first tutorial, you met Monty. We asked you to find the amount of NI and Income Tax that he pays on his £25,000 income and his net annual and monthly income. See if you can answer the same question but this time using a function, printing the answers to the screen using 'f' strings. For bonus points, instead of hardcoding the income, NI and tax amounts, make them arguments and then play around with the amounts."
      ],
      "metadata": {
        "id": "uztPyrMSwQcS"
      }
    },
    {
      "cell_type": "code",
      "source": [
        ""
      ],
      "metadata": {
        "id": "lu3dkt1Ytipf"
      },
      "execution_count": null,
      "outputs": []
    },
    {
      "cell_type": "markdown",
      "source": [
        "In case that was a bit hard, I've started you off below. Check it out!"
      ],
      "metadata": {
        "id": "b7DeL4L6xfrg"
      }
    },
    {
      "cell_type": "code",
      "source": [
        "def tax(income, tax_rate):\n",
        "  print(f'Monty earns £{income}pa and pays £{income * tax_rate} in income tax.')"
      ],
      "metadata": {
        "id": "-szqi8itxnBs"
      },
      "execution_count": null,
      "outputs": []
    },
    {
      "cell_type": "code",
      "source": [
        "tax(25000, 0.2)"
      ],
      "metadata": {
        "colab": {
          "base_uri": "https://localhost:8080/"
        },
        "id": "wM2oPLKXyIG2",
        "outputId": "a3f91a92-0981-48be-ea03-1649beaa7bc6"
      },
      "execution_count": null,
      "outputs": [
        {
          "output_type": "stream",
          "name": "stdout",
          "text": [
            "Monty earns £25000pa and pays £5000.0 in income tax\n"
          ]
        }
      ]
    },
    {
      "cell_type": "markdown",
      "source": [
        "Now, there are some pitfalls to watch out for when defining and calling functions. In our examples so far we have hardcoded in the number of arguments required. Run the code cell below and look at the error:"
      ],
      "metadata": {
        "id": "f_dxw4pI55GD"
      }
    },
    {
      "cell_type": "code",
      "source": [
        "def add(a, b):\n",
        "  print(a + b)\n",
        "\n",
        "add(4)"
      ],
      "metadata": {
        "colab": {
          "base_uri": "https://localhost:8080/",
          "height": 201
        },
        "id": "tU65bP3my9ya",
        "outputId": "0f109b89-44b5-4c1f-d65f-5c5dbedb17b6"
      },
      "execution_count": 1,
      "outputs": [
        {
          "output_type": "error",
          "ename": "TypeError",
          "evalue": "ignored",
          "traceback": [
            "\u001b[0;31m---------------------------------------------------------------------------\u001b[0m",
            "\u001b[0;31mTypeError\u001b[0m                                 Traceback (most recent call last)",
            "\u001b[0;32m<ipython-input-1-ffe386a9ffb9>\u001b[0m in \u001b[0;36m<module>\u001b[0;34m()\u001b[0m\n\u001b[1;32m      2\u001b[0m   \u001b[0mprint\u001b[0m\u001b[0;34m(\u001b[0m\u001b[0ma\u001b[0m \u001b[0;34m+\u001b[0m \u001b[0mb\u001b[0m\u001b[0;34m)\u001b[0m\u001b[0;34m\u001b[0m\u001b[0;34m\u001b[0m\u001b[0m\n\u001b[1;32m      3\u001b[0m \u001b[0;34m\u001b[0m\u001b[0m\n\u001b[0;32m----> 4\u001b[0;31m \u001b[0madd\u001b[0m\u001b[0;34m(\u001b[0m\u001b[0;36m4\u001b[0m\u001b[0;34m)\u001b[0m\u001b[0;34m\u001b[0m\u001b[0;34m\u001b[0m\u001b[0m\n\u001b[0m",
            "\u001b[0;31mTypeError\u001b[0m: add() missing 1 required positional argument: 'b'"
          ]
        }
      ]
    },
    {
      "cell_type": "markdown",
      "source": [
        "You should see `TypeError: add() missing 1 required positional argument: 'b'`. This is a really nice descriptive error that tells you you're missing an argument. Try adding adding three numbers and see what happens"
      ],
      "metadata": {
        "id": "BjU84p1w6PzY"
      }
    },
    {
      "cell_type": "code",
      "source": [
        "add(1, 2, 3)"
      ],
      "metadata": {
        "colab": {
          "base_uri": "https://localhost:8080/",
          "height": 166
        },
        "id": "ac2DJ52n6N8l",
        "outputId": "e11e9d83-cd12-4a3e-f028-c7d51194f8ba"
      },
      "execution_count": null,
      "outputs": [
        {
          "output_type": "error",
          "ename": "TypeError",
          "evalue": "ignored",
          "traceback": [
            "\u001b[0;31m---------------------------------------------------------------------------\u001b[0m",
            "\u001b[0;31mTypeError\u001b[0m                                 Traceback (most recent call last)",
            "\u001b[0;32m<ipython-input-22-30a43e0f0f21>\u001b[0m in \u001b[0;36m<module>\u001b[0;34m()\u001b[0m\n\u001b[0;32m----> 1\u001b[0;31m \u001b[0madd\u001b[0m\u001b[0;34m(\u001b[0m\u001b[0;36m1\u001b[0m\u001b[0;34m,\u001b[0m \u001b[0;36m2\u001b[0m\u001b[0;34m,\u001b[0m \u001b[0;36m3\u001b[0m\u001b[0;34m)\u001b[0m\u001b[0;34m\u001b[0m\u001b[0;34m\u001b[0m\u001b[0m\n\u001b[0m",
            "\u001b[0;31mTypeError\u001b[0m: add() takes 2 positional arguments but 3 were given"
          ]
        }
      ]
    },
    {
      "cell_type": "markdown",
      "source": [
        "Surely this severely limits functions! How can you write something like a calculator when you have to know in advance the number of arguments the user wants to input, and when this number can never change?! Time to give up. Not so fast! Unsurprisingly this problem has been addressed with something called **Argument Tuple Packing**. Don't worry if you don't understand all those words, you don't need to just yet. What you need to be aware of is the concept of `args`. This is kind of another of those keywords, although not exactly. It isn't reserved but is used out of convention. What's really important is that it's preceded by an asterix (*), like thus:"
      ],
      "metadata": {
        "id": "bNlUoUhP7PcH"
      }
    },
    {
      "cell_type": "code",
      "source": [
        "def args(*args):\n",
        "  print(args)"
      ],
      "metadata": {
        "id": "9649f13t8mFU"
      },
      "execution_count": null,
      "outputs": []
    },
    {
      "cell_type": "markdown",
      "source": [
        "As you can see, Python doesn't care that I used args as the function name, but you should probably avoid it anyway because it'll make experienced Pyhonistas confused and they'll cry into their gatorade!\n",
        "\n",
        "What is actually happening here is that the asterix is telling Python that this function can take any number of arguments from zero to infinity. This means that using the above function I can print as many strings as I want. Observe:"
      ],
      "metadata": {
        "id": "R8ABU9Y48wy-"
      }
    },
    {
      "cell_type": "code",
      "source": [
        "args('Hattie', 'James', 'Adam')"
      ],
      "metadata": {
        "colab": {
          "base_uri": "https://localhost:8080/"
        },
        "id": "3lb1TCAo8ukf",
        "outputId": "c9365a68-cfec-400f-8433-7801ab30095d"
      },
      "execution_count": null,
      "outputs": [
        {
          "output_type": "stream",
          "name": "stdout",
          "text": [
            "('Hattie', 'James', 'Adam')\n"
          ]
        }
      ]
    },
    {
      "cell_type": "markdown",
      "source": [
        "Now I can show you a really basic use case scenario using functions, 'f' strings and loops. This is how something like mail merge would work."
      ],
      "metadata": {
        "id": "EFXSGtXT9l9X"
      }
    },
    {
      "cell_type": "code",
      "source": [
        "def multiGreeting(*args):\n",
        "  for arg in args:\n",
        "    print(f'Hi {arg}, thanks for signing up to our newsletter.')"
      ],
      "metadata": {
        "id": "qbpeHR1u_uWx"
      },
      "execution_count": null,
      "outputs": []
    },
    {
      "cell_type": "code",
      "source": [
        "multiGreeting('Hattie', 'James', 'Adam')"
      ],
      "metadata": {
        "colab": {
          "base_uri": "https://localhost:8080/"
        },
        "id": "zzGA1m9s_9Ra",
        "outputId": "52455e2c-85d8-4cb1-e3fa-53c02bd4cfef"
      },
      "execution_count": null,
      "outputs": [
        {
          "output_type": "stream",
          "name": "stdout",
          "text": [
            "Hi Hattie, thanks for signing up to our newsletter.\n",
            "Hi James, thanks for signing up to our newsletter.\n",
            "Hi Adam, thanks for signing up to our newsletter.\n"
          ]
        }
      ]
    },
    {
      "cell_type": "markdown",
      "source": [
        "Imagine I had thousands of people I wanted to ~~spam~~ contact, I could do that with just three lines of codes. Hopefully you'll agree that although we're not quite ready to quit our jobs to work for Google, Python is starting to look pretty interesting.\n",
        "\n",
        "Before moving onto the challenges I want to show you how you can add user input into your functions. So far we've had to enter the arguments when we call the function, but in the real world you wouldn't want your user to see the actual function. This is solved using `input`. Run the following function, adding together 10 and 5."
      ],
      "metadata": {
        "id": "qsHg_tZ8AKR2"
      }
    },
    {
      "cell_type": "code",
      "source": [
        "def add_with_inputs(a=input('Please enter the first number: '), b=input('Please enter the second number: ')):\n",
        "  print(a + b)\n",
        "\n",
        "add_with_inputs()"
      ],
      "metadata": {
        "colab": {
          "base_uri": "https://localhost:8080/"
        },
        "id": "Y2En70tnMLUd",
        "outputId": "734a4277-a719-46ba-cbb4-b94911546eb3"
      },
      "execution_count": 8,
      "outputs": [
        {
          "output_type": "stream",
          "name": "stdout",
          "text": [
            "Please enter the first number: 10\n",
            "Please enter the second number: 10\n",
            "1010\n"
          ]
        }
      ]
    },
    {
      "cell_type": "markdown",
      "source": [
        "You'll notice that the answer isn't what you expected! Why is that? When you ask a user to `input` an argument it's in the data type `string`. Try and convert it into a number using [this](https://docs.python.org/3/library/functions.html) link to help. Remember that in Python we have 2 types of number and in this case you can use either one."
      ],
      "metadata": {
        "id": "ZAyNL_YgNNDe"
      }
    },
    {
      "cell_type": "markdown",
      "source": [
        "# **Challenges**\n",
        "Right, this is your opportunity to put everything together in a few challenges. I realise that writing out function after function after function is going to get tiresome pretty quickly, but it's really important that you understand exactly how they work.\n",
        "\n"
      ],
      "metadata": {
        "id": "P6DM9yPIDQBO"
      }
    },
    {
      "cell_type": "markdown",
      "source": [
        "Write functions that do the following:\n",
        "\n",
        "\n",
        "1.   Asks the user for their first and second name and output a lovely greeting.\n",
        "2.   Takes Monty's tax calculation and improve it by asking Monty what his annual income is.\n",
        "\n",
        "1.   Asks for a number and modulo it. Ask for the modulo as well.\n",
        "2.   Do the same thing with floor division and power.\n",
        "\n",
        "\n",
        "\n",
        "\n",
        "\n",
        "\n",
        "\n",
        "\n",
        "\n",
        "\n",
        "\n",
        "  \n"
      ],
      "metadata": {
        "id": "w0_YA6r7Dyg_"
      }
    },
    {
      "cell_type": "code",
      "source": [
        ""
      ],
      "metadata": {
        "id": "QZ917NljABIn"
      },
      "execution_count": null,
      "outputs": []
    },
    {
      "cell_type": "markdown",
      "source": [
        ""
      ],
      "metadata": {
        "id": "F__bP1IGQRSx"
      }
    },
    {
      "cell_type": "markdown",
      "source": [
        "Just before I go I need to mention methods. Python is an object oriented program, which in simple terms means that you can create a class of something (e.g. a vehicle), and then use that class to create objects (e.g. a car). Everything in the class shares common characteristics, such as number of wheels, doors, etc, but the object derived from it is much more specialised. Within these classes and objects you can call functions, which in this context are called methods. That's it, the only difference. Don't worry about classes atm, we'll go into that in much more detail in future tutorials."
      ],
      "metadata": {
        "id": "-0SjhaG4QoLS"
      }
    },
    {
      "cell_type": "code",
      "source": [
        ""
      ],
      "metadata": {
        "id": "IISp4nmZSCqT"
      },
      "execution_count": null,
      "outputs": []
    }
  ]
}